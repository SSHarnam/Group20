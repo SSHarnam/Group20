{
 "cells": [
  {
   "cell_type": "code",
   "execution_count": 5,
   "metadata": {
    "ExecuteTime": {
     "start_time": "2023-06-13T12:25:01.739795Z",
     "end_time": "2023-06-13T12:25:02.397063Z"
    }
   },
   "outputs": [],
   "source": [
    "import numpy as np\n",
    "import scipy as sp\n",
    "import pandas as pd\n",
    "import matplotlib.pyplot as plt\n",
    "import seaborn as sns\n",
    "import networkx as nx"
   ]
  },
  {
   "cell_type": "code",
   "execution_count": 6,
   "metadata": {
    "ExecuteTime": {
     "start_time": "2023-06-13T12:25:04.225349Z",
     "end_time": "2023-06-13T12:25:04.235902Z"
    }
   },
   "outputs": [
    {
     "name": "stdout",
     "output_type": "stream",
     "text": [
      "2.0.1\n",
      "3.1\n"
     ]
    }
   ],
   "source": [
    "# make sure pandas is version 1.0 or higher\n",
    "# make sure networkx is version 2.4 or higher\n",
    "print(pd.__version__)\n",
    "print(nx.__version__)"
   ]
  },
  {
   "cell_type": "code",
   "execution_count": 7,
   "metadata": {
    "scrolled": true,
    "ExecuteTime": {
     "start_time": "2023-06-13T12:25:12.011328Z",
     "end_time": "2023-06-13T12:25:15.800730Z"
    }
   },
   "outputs": [],
   "source": [
    "from ema_workbench import (\n",
    "    Model,\n",
    "    Policy,\n",
    "    ema_logging,\n",
    "    SequentialEvaluator,\n",
    "    MultiprocessingEvaluator,\n",
    ")\n",
    "from dike_model_function import DikeNetwork  # @UnresolvedImport\n",
    "from problem_formulation import get_model_for_problem_formulation, sum_over, sum_over_time\n",
    "\n"
   ]
  },
  {
   "cell_type": "code",
   "execution_count": 13,
   "metadata": {
    "ExecuteTime": {
     "start_time": "2023-06-13T12:31:22.492055Z",
     "end_time": "2023-06-13T12:31:22.941116Z"
    }
   },
   "outputs": [],
   "source": [
    "ema_logging.log_to_stderr(ema_logging.INFO)\n",
    "\n",
    "# choose problem formulation number, between 0-5\n",
    "# each problem formulation has its own list of outcomes\n",
    "dike_model, planning_steps = get_model_for_problem_formulation(3)"
   ]
  },
  {
   "cell_type": "code",
   "execution_count": 14,
   "metadata": {
    "ExecuteTime": {
     "start_time": "2023-06-13T12:31:25.528796Z",
     "end_time": "2023-06-13T12:31:25.595753Z"
    }
   },
   "outputs": [
    {
     "name": "stdout",
     "output_type": "stream",
     "text": [
      "CategoricalParameter('discount rate 0', [0, 1, 2, 3])\n",
      "CategoricalParameter('discount rate 1', [0, 1, 2, 3])\n",
      "CategoricalParameter('discount rate 2', [0, 1, 2, 3])\n",
      "IntegerParameter('A.0_ID flood wave shape', 0, 132, resolution=None, default=None, variable_name=['A.0_ID flood wave shape'], pff=False)\n",
      "RealParameter('A.1_Bmax', 30, 350, resolution=None, default=None, variable_name=['A.1_Bmax'], pff=False)\n",
      "RealParameter('A.1_pfail', 0, 1, resolution=None, default=None, variable_name=['A.1_pfail'], pff=False)\n",
      "CategoricalParameter('A.1_Brate', [0, 1, 2])\n",
      "RealParameter('A.2_Bmax', 30, 350, resolution=None, default=None, variable_name=['A.2_Bmax'], pff=False)\n",
      "RealParameter('A.2_pfail', 0, 1, resolution=None, default=None, variable_name=['A.2_pfail'], pff=False)\n",
      "CategoricalParameter('A.2_Brate', [0, 1, 2])\n",
      "RealParameter('A.3_Bmax', 30, 350, resolution=None, default=None, variable_name=['A.3_Bmax'], pff=False)\n",
      "RealParameter('A.3_pfail', 0, 1, resolution=None, default=None, variable_name=['A.3_pfail'], pff=False)\n",
      "CategoricalParameter('A.3_Brate', [0, 1, 2])\n",
      "RealParameter('A.4_Bmax', 30, 350, resolution=None, default=None, variable_name=['A.4_Bmax'], pff=False)\n",
      "RealParameter('A.4_pfail', 0, 1, resolution=None, default=None, variable_name=['A.4_pfail'], pff=False)\n",
      "CategoricalParameter('A.4_Brate', [0, 1, 2])\n",
      "RealParameter('A.5_Bmax', 30, 350, resolution=None, default=None, variable_name=['A.5_Bmax'], pff=False)\n",
      "RealParameter('A.5_pfail', 0, 1, resolution=None, default=None, variable_name=['A.5_pfail'], pff=False)\n",
      "CategoricalParameter('A.5_Brate', [0, 1, 2])\n"
     ]
    }
   ],
   "source": [
    "# enlisting uncertainties, their types (RealParameter/IntegerParameter/CategoricalParameter), lower boundary, and upper boundary\n",
    "import copy\n",
    "\n",
    "for unc in dike_model.uncertainties:\n",
    "    print(repr(unc))\n",
    "\n",
    "uncertainties = copy.deepcopy(dike_model.uncertainties)"
   ]
  },
  {
   "cell_type": "code",
   "execution_count": 15,
   "metadata": {
    "ExecuteTime": {
     "start_time": "2023-06-13T12:31:26.642554Z",
     "end_time": "2023-06-13T12:31:26.688650Z"
    }
   },
   "outputs": [
    {
     "name": "stdout",
     "output_type": "stream",
     "text": [
      "IntegerParameter('0_RfR 0', 0, 1, resolution=None, default=None, variable_name=['0_RfR 0'], pff=False)\n",
      "IntegerParameter('0_RfR 1', 0, 1, resolution=None, default=None, variable_name=['0_RfR 1'], pff=False)\n",
      "IntegerParameter('0_RfR 2', 0, 1, resolution=None, default=None, variable_name=['0_RfR 2'], pff=False)\n",
      "IntegerParameter('1_RfR 0', 0, 1, resolution=None, default=None, variable_name=['1_RfR 0'], pff=False)\n",
      "IntegerParameter('1_RfR 1', 0, 1, resolution=None, default=None, variable_name=['1_RfR 1'], pff=False)\n",
      "IntegerParameter('1_RfR 2', 0, 1, resolution=None, default=None, variable_name=['1_RfR 2'], pff=False)\n",
      "IntegerParameter('2_RfR 0', 0, 1, resolution=None, default=None, variable_name=['2_RfR 0'], pff=False)\n",
      "IntegerParameter('2_RfR 1', 0, 1, resolution=None, default=None, variable_name=['2_RfR 1'], pff=False)\n",
      "IntegerParameter('2_RfR 2', 0, 1, resolution=None, default=None, variable_name=['2_RfR 2'], pff=False)\n",
      "IntegerParameter('3_RfR 0', 0, 1, resolution=None, default=None, variable_name=['3_RfR 0'], pff=False)\n",
      "IntegerParameter('3_RfR 1', 0, 1, resolution=None, default=None, variable_name=['3_RfR 1'], pff=False)\n",
      "IntegerParameter('3_RfR 2', 0, 1, resolution=None, default=None, variable_name=['3_RfR 2'], pff=False)\n",
      "IntegerParameter('4_RfR 0', 0, 1, resolution=None, default=None, variable_name=['4_RfR 0'], pff=False)\n",
      "IntegerParameter('4_RfR 1', 0, 1, resolution=None, default=None, variable_name=['4_RfR 1'], pff=False)\n",
      "IntegerParameter('4_RfR 2', 0, 1, resolution=None, default=None, variable_name=['4_RfR 2'], pff=False)\n",
      "IntegerParameter('EWS_DaysToThreat', 0, 4, resolution=None, default=None, variable_name=['EWS_DaysToThreat'], pff=False)\n",
      "IntegerParameter('A.1_DikeIncrease 0', 0, 10, resolution=None, default=None, variable_name=['A.1_DikeIncrease 0'], pff=False)\n",
      "IntegerParameter('A.1_DikeIncrease 1', 0, 10, resolution=None, default=None, variable_name=['A.1_DikeIncrease 1'], pff=False)\n",
      "IntegerParameter('A.1_DikeIncrease 2', 0, 10, resolution=None, default=None, variable_name=['A.1_DikeIncrease 2'], pff=False)\n",
      "IntegerParameter('A.2_DikeIncrease 0', 0, 10, resolution=None, default=None, variable_name=['A.2_DikeIncrease 0'], pff=False)\n",
      "IntegerParameter('A.2_DikeIncrease 1', 0, 10, resolution=None, default=None, variable_name=['A.2_DikeIncrease 1'], pff=False)\n",
      "IntegerParameter('A.2_DikeIncrease 2', 0, 10, resolution=None, default=None, variable_name=['A.2_DikeIncrease 2'], pff=False)\n",
      "IntegerParameter('A.3_DikeIncrease 0', 0, 10, resolution=None, default=None, variable_name=['A.3_DikeIncrease 0'], pff=False)\n",
      "IntegerParameter('A.3_DikeIncrease 1', 0, 10, resolution=None, default=None, variable_name=['A.3_DikeIncrease 1'], pff=False)\n",
      "IntegerParameter('A.3_DikeIncrease 2', 0, 10, resolution=None, default=None, variable_name=['A.3_DikeIncrease 2'], pff=False)\n",
      "IntegerParameter('A.4_DikeIncrease 0', 0, 10, resolution=None, default=None, variable_name=['A.4_DikeIncrease 0'], pff=False)\n",
      "IntegerParameter('A.4_DikeIncrease 1', 0, 10, resolution=None, default=None, variable_name=['A.4_DikeIncrease 1'], pff=False)\n",
      "IntegerParameter('A.4_DikeIncrease 2', 0, 10, resolution=None, default=None, variable_name=['A.4_DikeIncrease 2'], pff=False)\n",
      "IntegerParameter('A.5_DikeIncrease 0', 0, 10, resolution=None, default=None, variable_name=['A.5_DikeIncrease 0'], pff=False)\n",
      "IntegerParameter('A.5_DikeIncrease 1', 0, 10, resolution=None, default=None, variable_name=['A.5_DikeIncrease 1'], pff=False)\n",
      "IntegerParameter('A.5_DikeIncrease 2', 0, 10, resolution=None, default=None, variable_name=['A.5_DikeIncrease 2'], pff=False)\n"
     ]
    }
   ],
   "source": [
    "# enlisting policy levers, their types (RealParameter/IntegerParameter), lower boundary, and upper boundary\n",
    "for policy in dike_model.levers:\n",
    "    print(repr(policy))\n",
    "\n",
    "levers = copy.deepcopy(dike_model.levers)"
   ]
  },
  {
   "cell_type": "code",
   "execution_count": 16,
   "metadata": {
    "ExecuteTime": {
     "start_time": "2023-06-13T12:31:28.636068Z",
     "end_time": "2023-06-13T12:31:28.638102Z"
    }
   },
   "outputs": [
    {
     "name": "stdout",
     "output_type": "stream",
     "text": [
      "ScalarOutcome('A.1 Total Costs', variable_name=('A.1_Expected Annual Damage', 'A.1_Dike Investment Costs'), function=<function sum_over at 0x00000221EF78F2E0>)\n",
      "ScalarOutcome('A.1_Expected Number of Deaths', variable_name=('A.1_Expected Number of Deaths',), function=<function sum_over at 0x00000221EF78F2E0>)\n",
      "ScalarOutcome('A.2 Total Costs', variable_name=('A.2_Expected Annual Damage', 'A.2_Dike Investment Costs'), function=<function sum_over at 0x00000221EF78F2E0>)\n",
      "ScalarOutcome('A.2_Expected Number of Deaths', variable_name=('A.2_Expected Number of Deaths',), function=<function sum_over at 0x00000221EF78F2E0>)\n",
      "ScalarOutcome('A.3 Total Costs', variable_name=('A.3_Expected Annual Damage', 'A.3_Dike Investment Costs'), function=<function sum_over at 0x00000221EF78F2E0>)\n",
      "ScalarOutcome('A.3_Expected Number of Deaths', variable_name=('A.3_Expected Number of Deaths',), function=<function sum_over at 0x00000221EF78F2E0>)\n",
      "ScalarOutcome('A.4 Total Costs', variable_name=('A.4_Expected Annual Damage', 'A.4_Dike Investment Costs'), function=<function sum_over at 0x00000221EF78F2E0>)\n",
      "ScalarOutcome('A.4_Expected Number of Deaths', variable_name=('A.4_Expected Number of Deaths',), function=<function sum_over at 0x00000221EF78F2E0>)\n",
      "ScalarOutcome('A.5 Total Costs', variable_name=('A.5_Expected Annual Damage', 'A.5_Dike Investment Costs'), function=<function sum_over at 0x00000221EF78F2E0>)\n",
      "ScalarOutcome('A.5_Expected Number of Deaths', variable_name=('A.5_Expected Number of Deaths',), function=<function sum_over at 0x00000221EF78F2E0>)\n",
      "ScalarOutcome('RfR Total Costs', variable_name=('RfR Total Costs',), function=<function sum_over at 0x00000221EF78F2E0>)\n",
      "ScalarOutcome('Expected Evacuation Costs', variable_name=('Expected Evacuation Costs',), function=<function sum_over at 0x00000221EF78F2E0>)\n"
     ]
    }
   ],
   "source": [
    "# enlisting outcomes\n",
    "for outcome in dike_model.outcomes:\n",
    "    print(repr(outcome))"
   ]
  },
  {
   "cell_type": "code",
   "execution_count": 17,
   "metadata": {
    "ExecuteTime": {
     "start_time": "2023-06-13T12:31:29.285991Z",
     "end_time": "2023-06-13T12:34:01.689774Z"
    }
   },
   "outputs": [
    {
     "name": "stderr",
     "output_type": "stream",
     "text": [
      "[MainProcess/INFO] pool started with 12 workers\n",
      "[MainProcess/INFO] performing 50 scenarios * 4 policies * 1 model(s) = 200 experiments\n",
      "100%|████████████████████████████████████████| 200/200 [00:38<00:00,  5.26it/s]\n",
      "[MainProcess/INFO] experiments finished\n",
      "[MainProcess/INFO] terminating pool\n"
     ]
    }
   ],
   "source": [
    "# running the model through EMA workbench\n",
    "with MultiprocessingEvaluator(dike_model) as evaluator:\n",
    "    results = evaluator.perform_experiments(scenarios=50, policies=4)"
   ]
  },
  {
   "cell_type": "code",
   "execution_count": 18,
   "metadata": {
    "scrolled": true,
    "ExecuteTime": {
     "start_time": "2023-06-13T12:34:06.029390Z",
     "end_time": "2023-06-13T12:34:06.086251Z"
    }
   },
   "outputs": [
    {
     "name": "stdout",
     "output_type": "stream",
     "text": [
      "dict_keys(['A.1 Total Costs', 'A.1_Expected Number of Deaths', 'A.2 Total Costs', 'A.2_Expected Number of Deaths', 'A.3 Total Costs', 'A.3_Expected Number of Deaths', 'A.4 Total Costs', 'A.4_Expected Number of Deaths', 'A.5 Total Costs', 'A.5_Expected Number of Deaths', 'RfR Total Costs', 'Expected Evacuation Costs'])\n"
     ]
    },
    {
     "data": {
      "text/plain": "     A.0_ID flood wave shape    A.1_Bmax A.1_Brate  A.1_pfail    A.2_Bmax   \n0                        113   37.484584       1.5   0.068685  192.569578  \\\n1                         86  256.367815      10.0   0.653108   88.313093   \n2                          4  123.728265      10.0   0.189138  149.098804   \n3                         68   55.280511       1.0   0.231376  254.757548   \n4                        132  332.962871       1.0   0.039255   64.886350   \n..                       ...         ...       ...        ...         ...   \n195                        0  191.878421      10.0   0.722739  205.029496   \n196                        7  311.211865       1.5   0.090614  348.405824   \n197                       27  247.661270      10.0   0.427229   33.380961   \n198                       81  233.673691       1.0   0.171513  131.333769   \n199                       12  223.904651       1.5   0.367578  185.586781   \n\n    A.2_Brate  A.2_pfail    A.3_Bmax A.3_Brate  A.3_pfail  ...   \n0        10.0   0.130825   97.287745      10.0   0.623667  ...  \\\n1         1.0   0.870244  215.006764       1.0   0.990669  ...   \n2        10.0   0.519966  179.487056       1.5   0.420035  ...   \n3        10.0   0.426466  139.493518      10.0   0.312335  ...   \n4        10.0   0.761122  339.253878      10.0   0.589939  ...   \n..        ...        ...         ...       ...        ...  ...   \n195       1.5   0.719310   70.989035      10.0   0.244029  ...   \n196       1.0   0.686659  176.125871      10.0   0.012559  ...   \n197      10.0   0.743358  133.353994       1.5   0.238847  ...   \n198       1.5   0.331048   61.840136      10.0   0.856749  ...   \n199       1.0   0.532878  324.065751      10.0   0.081769  ...   \n\n     A.4_DikeIncrease 0 A.4_DikeIncrease 1  A.4_DikeIncrease 2   \n0                     2                  6                   4  \\\n1                     2                  6                   4   \n2                     2                  6                   4   \n3                     2                  6                   4   \n4                     2                  6                   4   \n..                  ...                ...                 ...   \n195                   4                  9                  10   \n196                   4                  9                  10   \n197                   4                  9                  10   \n198                   4                  9                  10   \n199                   4                  9                  10   \n\n     A.5_DikeIncrease 0 A.5_DikeIncrease 1  A.5_DikeIncrease 2   \n0                     9                  6                   5  \\\n1                     9                  6                   5   \n2                     9                  6                   5   \n3                     9                  6                   5   \n4                     9                  6                   5   \n..                  ...                ...                 ...   \n195                   7                  9                   2   \n196                   7                  9                   2   \n197                   7                  9                   2   \n198                   7                  9                   2   \n199                   7                  9                   2   \n\n    EWS_DaysToThreat scenario policy     model  \n0                  4        4      0  dikesnet  \n1                  4        5      0  dikesnet  \n2                  4        6      0  dikesnet  \n3                  4        7      0  dikesnet  \n4                  4        8      0  dikesnet  \n..               ...      ...    ...       ...  \n195                0       49      3  dikesnet  \n196                0       50      3  dikesnet  \n197                0       51      3  dikesnet  \n198                0       52      3  dikesnet  \n199                0       53      3  dikesnet  \n\n[200 rows x 53 columns]",
      "text/html": "<div>\n<style scoped>\n    .dataframe tbody tr th:only-of-type {\n        vertical-align: middle;\n    }\n\n    .dataframe tbody tr th {\n        vertical-align: top;\n    }\n\n    .dataframe thead th {\n        text-align: right;\n    }\n</style>\n<table border=\"1\" class=\"dataframe\">\n  <thead>\n    <tr style=\"text-align: right;\">\n      <th></th>\n      <th>A.0_ID flood wave shape</th>\n      <th>A.1_Bmax</th>\n      <th>A.1_Brate</th>\n      <th>A.1_pfail</th>\n      <th>A.2_Bmax</th>\n      <th>A.2_Brate</th>\n      <th>A.2_pfail</th>\n      <th>A.3_Bmax</th>\n      <th>A.3_Brate</th>\n      <th>A.3_pfail</th>\n      <th>...</th>\n      <th>A.4_DikeIncrease 0</th>\n      <th>A.4_DikeIncrease 1</th>\n      <th>A.4_DikeIncrease 2</th>\n      <th>A.5_DikeIncrease 0</th>\n      <th>A.5_DikeIncrease 1</th>\n      <th>A.5_DikeIncrease 2</th>\n      <th>EWS_DaysToThreat</th>\n      <th>scenario</th>\n      <th>policy</th>\n      <th>model</th>\n    </tr>\n  </thead>\n  <tbody>\n    <tr>\n      <th>0</th>\n      <td>113</td>\n      <td>37.484584</td>\n      <td>1.5</td>\n      <td>0.068685</td>\n      <td>192.569578</td>\n      <td>10.0</td>\n      <td>0.130825</td>\n      <td>97.287745</td>\n      <td>10.0</td>\n      <td>0.623667</td>\n      <td>...</td>\n      <td>2</td>\n      <td>6</td>\n      <td>4</td>\n      <td>9</td>\n      <td>6</td>\n      <td>5</td>\n      <td>4</td>\n      <td>4</td>\n      <td>0</td>\n      <td>dikesnet</td>\n    </tr>\n    <tr>\n      <th>1</th>\n      <td>86</td>\n      <td>256.367815</td>\n      <td>10.0</td>\n      <td>0.653108</td>\n      <td>88.313093</td>\n      <td>1.0</td>\n      <td>0.870244</td>\n      <td>215.006764</td>\n      <td>1.0</td>\n      <td>0.990669</td>\n      <td>...</td>\n      <td>2</td>\n      <td>6</td>\n      <td>4</td>\n      <td>9</td>\n      <td>6</td>\n      <td>5</td>\n      <td>4</td>\n      <td>5</td>\n      <td>0</td>\n      <td>dikesnet</td>\n    </tr>\n    <tr>\n      <th>2</th>\n      <td>4</td>\n      <td>123.728265</td>\n      <td>10.0</td>\n      <td>0.189138</td>\n      <td>149.098804</td>\n      <td>10.0</td>\n      <td>0.519966</td>\n      <td>179.487056</td>\n      <td>1.5</td>\n      <td>0.420035</td>\n      <td>...</td>\n      <td>2</td>\n      <td>6</td>\n      <td>4</td>\n      <td>9</td>\n      <td>6</td>\n      <td>5</td>\n      <td>4</td>\n      <td>6</td>\n      <td>0</td>\n      <td>dikesnet</td>\n    </tr>\n    <tr>\n      <th>3</th>\n      <td>68</td>\n      <td>55.280511</td>\n      <td>1.0</td>\n      <td>0.231376</td>\n      <td>254.757548</td>\n      <td>10.0</td>\n      <td>0.426466</td>\n      <td>139.493518</td>\n      <td>10.0</td>\n      <td>0.312335</td>\n      <td>...</td>\n      <td>2</td>\n      <td>6</td>\n      <td>4</td>\n      <td>9</td>\n      <td>6</td>\n      <td>5</td>\n      <td>4</td>\n      <td>7</td>\n      <td>0</td>\n      <td>dikesnet</td>\n    </tr>\n    <tr>\n      <th>4</th>\n      <td>132</td>\n      <td>332.962871</td>\n      <td>1.0</td>\n      <td>0.039255</td>\n      <td>64.886350</td>\n      <td>10.0</td>\n      <td>0.761122</td>\n      <td>339.253878</td>\n      <td>10.0</td>\n      <td>0.589939</td>\n      <td>...</td>\n      <td>2</td>\n      <td>6</td>\n      <td>4</td>\n      <td>9</td>\n      <td>6</td>\n      <td>5</td>\n      <td>4</td>\n      <td>8</td>\n      <td>0</td>\n      <td>dikesnet</td>\n    </tr>\n    <tr>\n      <th>...</th>\n      <td>...</td>\n      <td>...</td>\n      <td>...</td>\n      <td>...</td>\n      <td>...</td>\n      <td>...</td>\n      <td>...</td>\n      <td>...</td>\n      <td>...</td>\n      <td>...</td>\n      <td>...</td>\n      <td>...</td>\n      <td>...</td>\n      <td>...</td>\n      <td>...</td>\n      <td>...</td>\n      <td>...</td>\n      <td>...</td>\n      <td>...</td>\n      <td>...</td>\n      <td>...</td>\n    </tr>\n    <tr>\n      <th>195</th>\n      <td>0</td>\n      <td>191.878421</td>\n      <td>10.0</td>\n      <td>0.722739</td>\n      <td>205.029496</td>\n      <td>1.5</td>\n      <td>0.719310</td>\n      <td>70.989035</td>\n      <td>10.0</td>\n      <td>0.244029</td>\n      <td>...</td>\n      <td>4</td>\n      <td>9</td>\n      <td>10</td>\n      <td>7</td>\n      <td>9</td>\n      <td>2</td>\n      <td>0</td>\n      <td>49</td>\n      <td>3</td>\n      <td>dikesnet</td>\n    </tr>\n    <tr>\n      <th>196</th>\n      <td>7</td>\n      <td>311.211865</td>\n      <td>1.5</td>\n      <td>0.090614</td>\n      <td>348.405824</td>\n      <td>1.0</td>\n      <td>0.686659</td>\n      <td>176.125871</td>\n      <td>10.0</td>\n      <td>0.012559</td>\n      <td>...</td>\n      <td>4</td>\n      <td>9</td>\n      <td>10</td>\n      <td>7</td>\n      <td>9</td>\n      <td>2</td>\n      <td>0</td>\n      <td>50</td>\n      <td>3</td>\n      <td>dikesnet</td>\n    </tr>\n    <tr>\n      <th>197</th>\n      <td>27</td>\n      <td>247.661270</td>\n      <td>10.0</td>\n      <td>0.427229</td>\n      <td>33.380961</td>\n      <td>10.0</td>\n      <td>0.743358</td>\n      <td>133.353994</td>\n      <td>1.5</td>\n      <td>0.238847</td>\n      <td>...</td>\n      <td>4</td>\n      <td>9</td>\n      <td>10</td>\n      <td>7</td>\n      <td>9</td>\n      <td>2</td>\n      <td>0</td>\n      <td>51</td>\n      <td>3</td>\n      <td>dikesnet</td>\n    </tr>\n    <tr>\n      <th>198</th>\n      <td>81</td>\n      <td>233.673691</td>\n      <td>1.0</td>\n      <td>0.171513</td>\n      <td>131.333769</td>\n      <td>1.5</td>\n      <td>0.331048</td>\n      <td>61.840136</td>\n      <td>10.0</td>\n      <td>0.856749</td>\n      <td>...</td>\n      <td>4</td>\n      <td>9</td>\n      <td>10</td>\n      <td>7</td>\n      <td>9</td>\n      <td>2</td>\n      <td>0</td>\n      <td>52</td>\n      <td>3</td>\n      <td>dikesnet</td>\n    </tr>\n    <tr>\n      <th>199</th>\n      <td>12</td>\n      <td>223.904651</td>\n      <td>1.5</td>\n      <td>0.367578</td>\n      <td>185.586781</td>\n      <td>1.0</td>\n      <td>0.532878</td>\n      <td>324.065751</td>\n      <td>10.0</td>\n      <td>0.081769</td>\n      <td>...</td>\n      <td>4</td>\n      <td>9</td>\n      <td>10</td>\n      <td>7</td>\n      <td>9</td>\n      <td>2</td>\n      <td>0</td>\n      <td>53</td>\n      <td>3</td>\n      <td>dikesnet</td>\n    </tr>\n  </tbody>\n</table>\n<p>200 rows × 53 columns</p>\n</div>"
     },
     "execution_count": 18,
     "metadata": {},
     "output_type": "execute_result"
    }
   ],
   "source": [
    "# observing the simulation runs\n",
    "experiments, outcomes = results\n",
    "print(outcomes.keys())\n",
    "experiments"
   ]
  },
  {
   "cell_type": "code",
   "execution_count": 19,
   "metadata": {
    "ExecuteTime": {
     "start_time": "2023-06-13T12:34:07.278752Z",
     "end_time": "2023-06-13T12:34:07.309976Z"
    }
   },
   "outputs": [
    {
     "data": {
      "text/plain": "     A.1 Total Costs  A.1_Expected Number of Deaths  A.2 Total Costs   \n0       2.787634e+08                            0.0     1.931073e+08  \\\n1       2.787634e+08                            0.0     1.641055e+08   \n2       2.787634e+08                            0.0     1.655595e+08   \n3       2.787634e+08                            0.0     1.692063e+08   \n4       2.787634e+08                            0.0     1.641055e+08   \n..               ...                            ...              ...   \n195     2.673603e+08                            0.0     3.371501e+08   \n196     2.673603e+08                            0.0     3.371501e+08   \n197     2.673603e+08                            0.0     3.371501e+08   \n198     2.673603e+08                            0.0     3.371501e+08   \n199     2.673603e+08                            0.0     3.371501e+08   \n\n     A.2_Expected Number of Deaths  A.3 Total Costs   \n0                         0.004631     1.321141e+08  \\\n1                         0.000000     1.321141e+08   \n2                         0.000249     1.321141e+08   \n3                         0.000717     1.321141e+08   \n4                         0.000000     1.321141e+08   \n..                             ...              ...   \n195                       0.000000     4.880620e+07   \n196                       0.000000     5.061904e+08   \n197                       0.000000     5.277756e+07   \n198                       0.000000     4.587651e+07   \n199                       0.000000     1.026025e+08   \n\n     A.3_Expected Number of Deaths  A.4 Total Costs   \n0                         0.000000     3.347854e+07  \\\n1                         0.000000     4.244120e+07   \n2                         0.000000     3.347854e+07   \n3                         0.000000     3.347854e+07   \n4                         0.000000     3.347854e+07   \n..                             ...              ...   \n195                       0.005181     6.199909e+07   \n196                       0.725391     6.199909e+07   \n197                       0.014452     6.199909e+07   \n198                       0.000000     6.273968e+07   \n199                       0.099072     6.199909e+07   \n\n     A.4_Expected Number of Deaths  A.5 Total Costs   \n0                         0.000000     1.683204e+08  \\\n1                         0.000626     1.683204e+08   \n2                         0.000000     1.683204e+08   \n3                         0.000000     1.683204e+08   \n4                         0.000000     1.683204e+08   \n..                             ...              ...   \n195                       0.000000     1.586023e+08   \n196                       0.000000     1.586023e+08   \n197                       0.000000     1.586023e+08   \n198                       0.000280     1.586023e+08   \n199                       0.000000     1.586023e+08   \n\n     A.5_Expected Number of Deaths  RfR Total Costs  Expected Evacuation Costs  \n0                              0.0     4.364000e+08                2804.519499  \n1                              0.0     4.364000e+08                 936.040487  \n2                              0.0     4.364000e+08                 136.778268  \n3                              0.0     4.364000e+08                 393.427186  \n4                              0.0     4.364000e+08                   0.000000  \n..                             ...              ...                        ...  \n195                            0.0     1.725500e+09                   0.000000  \n196                            0.0     1.725500e+09                   0.000000  \n197                            0.0     1.725500e+09                   0.000000  \n198                            0.0     1.725500e+09                   0.000000  \n199                            0.0     1.725500e+09                   0.000000  \n\n[200 rows x 12 columns]",
      "text/html": "<div>\n<style scoped>\n    .dataframe tbody tr th:only-of-type {\n        vertical-align: middle;\n    }\n\n    .dataframe tbody tr th {\n        vertical-align: top;\n    }\n\n    .dataframe thead th {\n        text-align: right;\n    }\n</style>\n<table border=\"1\" class=\"dataframe\">\n  <thead>\n    <tr style=\"text-align: right;\">\n      <th></th>\n      <th>A.1 Total Costs</th>\n      <th>A.1_Expected Number of Deaths</th>\n      <th>A.2 Total Costs</th>\n      <th>A.2_Expected Number of Deaths</th>\n      <th>A.3 Total Costs</th>\n      <th>A.3_Expected Number of Deaths</th>\n      <th>A.4 Total Costs</th>\n      <th>A.4_Expected Number of Deaths</th>\n      <th>A.5 Total Costs</th>\n      <th>A.5_Expected Number of Deaths</th>\n      <th>RfR Total Costs</th>\n      <th>Expected Evacuation Costs</th>\n    </tr>\n  </thead>\n  <tbody>\n    <tr>\n      <th>0</th>\n      <td>2.787634e+08</td>\n      <td>0.0</td>\n      <td>1.931073e+08</td>\n      <td>0.004631</td>\n      <td>1.321141e+08</td>\n      <td>0.000000</td>\n      <td>3.347854e+07</td>\n      <td>0.000000</td>\n      <td>1.683204e+08</td>\n      <td>0.0</td>\n      <td>4.364000e+08</td>\n      <td>2804.519499</td>\n    </tr>\n    <tr>\n      <th>1</th>\n      <td>2.787634e+08</td>\n      <td>0.0</td>\n      <td>1.641055e+08</td>\n      <td>0.000000</td>\n      <td>1.321141e+08</td>\n      <td>0.000000</td>\n      <td>4.244120e+07</td>\n      <td>0.000626</td>\n      <td>1.683204e+08</td>\n      <td>0.0</td>\n      <td>4.364000e+08</td>\n      <td>936.040487</td>\n    </tr>\n    <tr>\n      <th>2</th>\n      <td>2.787634e+08</td>\n      <td>0.0</td>\n      <td>1.655595e+08</td>\n      <td>0.000249</td>\n      <td>1.321141e+08</td>\n      <td>0.000000</td>\n      <td>3.347854e+07</td>\n      <td>0.000000</td>\n      <td>1.683204e+08</td>\n      <td>0.0</td>\n      <td>4.364000e+08</td>\n      <td>136.778268</td>\n    </tr>\n    <tr>\n      <th>3</th>\n      <td>2.787634e+08</td>\n      <td>0.0</td>\n      <td>1.692063e+08</td>\n      <td>0.000717</td>\n      <td>1.321141e+08</td>\n      <td>0.000000</td>\n      <td>3.347854e+07</td>\n      <td>0.000000</td>\n      <td>1.683204e+08</td>\n      <td>0.0</td>\n      <td>4.364000e+08</td>\n      <td>393.427186</td>\n    </tr>\n    <tr>\n      <th>4</th>\n      <td>2.787634e+08</td>\n      <td>0.0</td>\n      <td>1.641055e+08</td>\n      <td>0.000000</td>\n      <td>1.321141e+08</td>\n      <td>0.000000</td>\n      <td>3.347854e+07</td>\n      <td>0.000000</td>\n      <td>1.683204e+08</td>\n      <td>0.0</td>\n      <td>4.364000e+08</td>\n      <td>0.000000</td>\n    </tr>\n    <tr>\n      <th>...</th>\n      <td>...</td>\n      <td>...</td>\n      <td>...</td>\n      <td>...</td>\n      <td>...</td>\n      <td>...</td>\n      <td>...</td>\n      <td>...</td>\n      <td>...</td>\n      <td>...</td>\n      <td>...</td>\n      <td>...</td>\n    </tr>\n    <tr>\n      <th>195</th>\n      <td>2.673603e+08</td>\n      <td>0.0</td>\n      <td>3.371501e+08</td>\n      <td>0.000000</td>\n      <td>4.880620e+07</td>\n      <td>0.005181</td>\n      <td>6.199909e+07</td>\n      <td>0.000000</td>\n      <td>1.586023e+08</td>\n      <td>0.0</td>\n      <td>1.725500e+09</td>\n      <td>0.000000</td>\n    </tr>\n    <tr>\n      <th>196</th>\n      <td>2.673603e+08</td>\n      <td>0.0</td>\n      <td>3.371501e+08</td>\n      <td>0.000000</td>\n      <td>5.061904e+08</td>\n      <td>0.725391</td>\n      <td>6.199909e+07</td>\n      <td>0.000000</td>\n      <td>1.586023e+08</td>\n      <td>0.0</td>\n      <td>1.725500e+09</td>\n      <td>0.000000</td>\n    </tr>\n    <tr>\n      <th>197</th>\n      <td>2.673603e+08</td>\n      <td>0.0</td>\n      <td>3.371501e+08</td>\n      <td>0.000000</td>\n      <td>5.277756e+07</td>\n      <td>0.014452</td>\n      <td>6.199909e+07</td>\n      <td>0.000000</td>\n      <td>1.586023e+08</td>\n      <td>0.0</td>\n      <td>1.725500e+09</td>\n      <td>0.000000</td>\n    </tr>\n    <tr>\n      <th>198</th>\n      <td>2.673603e+08</td>\n      <td>0.0</td>\n      <td>3.371501e+08</td>\n      <td>0.000000</td>\n      <td>4.587651e+07</td>\n      <td>0.000000</td>\n      <td>6.273968e+07</td>\n      <td>0.000280</td>\n      <td>1.586023e+08</td>\n      <td>0.0</td>\n      <td>1.725500e+09</td>\n      <td>0.000000</td>\n    </tr>\n    <tr>\n      <th>199</th>\n      <td>2.673603e+08</td>\n      <td>0.0</td>\n      <td>3.371501e+08</td>\n      <td>0.000000</td>\n      <td>1.026025e+08</td>\n      <td>0.099072</td>\n      <td>6.199909e+07</td>\n      <td>0.000000</td>\n      <td>1.586023e+08</td>\n      <td>0.0</td>\n      <td>1.725500e+09</td>\n      <td>0.000000</td>\n    </tr>\n  </tbody>\n</table>\n<p>200 rows × 12 columns</p>\n</div>"
     },
     "execution_count": 19,
     "metadata": {},
     "output_type": "execute_result"
    }
   ],
   "source": [
    "# only works because we have scalar outcomes\n",
    "pd.DataFrame(outcomes)"
   ]
  },
  {
   "cell_type": "code",
   "execution_count": 20,
   "metadata": {
    "ExecuteTime": {
     "start_time": "2023-06-13T12:34:08.105730Z",
     "end_time": "2023-06-13T12:34:08.111982Z"
    }
   },
   "outputs": [],
   "source": [
    "# defining specific policies\n",
    "# for example, policy 1 is about extra protection in upper boundary\n",
    "# policy 2 is about extra protection in lower boundary\n",
    "# policy 3 is extra protection in random locations\n",
    "\n",
    "\n",
    "def get_do_nothing_dict():\n",
    "    return {l.name: 0 for l in dike_model.levers}\n",
    "\n",
    "\n",
    "policies = [\n",
    "    Policy(\n",
    "        \"policy 1\",\n",
    "        **dict(\n",
    "            get_do_nothing_dict(),\n",
    "            **{\"0_RfR 0\": 1, \"0_RfR 1\": 1, \"0_RfR 2\": 1, \"A.1_DikeIncrease 0\": 5}\n",
    "        )\n",
    "    ),\n",
    "    Policy(\n",
    "        \"policy 2\",\n",
    "        **dict(\n",
    "            get_do_nothing_dict(),\n",
    "            **{\"4_RfR 0\": 1, \"4_RfR 1\": 1, \"4_RfR 2\": 1, \"A.5_DikeIncrease 0\": 5}\n",
    "        )\n",
    "    ),\n",
    "    Policy(\n",
    "        \"policy 3\",\n",
    "        **dict(\n",
    "            get_do_nothing_dict(),\n",
    "            **{\"1_RfR 0\": 1, \"2_RfR 1\": 1, \"3_RfR 2\": 1, \"A.3_DikeIncrease 0\": 5}\n",
    "        )\n",
    "    ),\n",
    "]"
   ]
  },
  {
   "cell_type": "code",
   "execution_count": 21,
   "metadata": {
    "ExecuteTime": {
     "start_time": "2023-06-13T12:34:11.343894Z",
     "end_time": "2023-06-13T12:37:08.967880Z"
    }
   },
   "outputs": [
    {
     "name": "stderr",
     "output_type": "stream",
     "text": [
      "[MainProcess/INFO] pool started with 12 workers\n",
      "[MainProcess/INFO] performing 100 scenarios * 3 policies * 1 model(s) = 300 experiments\n",
      "100%|████████████████████████████████████████| 300/300 [01:04<00:00,  4.64it/s]\n",
      "[MainProcess/INFO] experiments finished\n",
      "[MainProcess/INFO] terminating pool\n"
     ]
    }
   ],
   "source": [
    "# pass the policies list to EMA workbench experiment runs\n",
    "n_scenarios = 100\n",
    "with MultiprocessingEvaluator(dike_model) as evaluator:\n",
    "    results = evaluator.perform_experiments(n_scenarios, policies)"
   ]
  },
  {
   "cell_type": "code",
   "execution_count": 22,
   "metadata": {
    "ExecuteTime": {
     "start_time": "2023-06-13T12:37:20.080077Z",
     "end_time": "2023-06-13T12:37:20.116458Z"
    }
   },
   "outputs": [],
   "source": [
    "experiments, outcomes = results"
   ]
  },
  {
   "cell_type": "code",
   "execution_count": 23,
   "metadata": {
    "ExecuteTime": {
     "start_time": "2023-06-13T12:37:20.871477Z",
     "end_time": "2023-06-13T12:37:20.948677Z"
    }
   },
   "outputs": [
    {
     "data": {
      "text/plain": "     A.1 Total Costs  A.1_Expected Number of Deaths  A.2 Total Costs   \n0       5.397251e+07                       0.000000     3.677944e+07  \\\n1       5.397251e+07                       0.000000     3.320139e+07   \n2       5.397251e+07                       0.000000     2.236155e+07   \n3       5.397251e+07                       0.000000     1.437579e+08   \n4       5.397251e+07                       0.000000     4.736275e+07   \n..               ...                            ...              ...   \n295     0.000000e+00                       0.000000     7.045489e+06   \n296     0.000000e+00                       0.000000     1.443229e+07   \n297     2.513008e+09                       1.682852     0.000000e+00   \n298     2.972774e+09                       1.684338     0.000000e+00   \n299     3.106796e+09                       1.686196     2.132417e+07   \n\n     A.2_Expected Number of Deaths  A.3 Total Costs   \n0                         0.044461     4.374984e+07  \\\n1                         0.043594     5.170051e+08   \n2                         0.018971     3.149571e+08   \n3                         0.130226     0.000000e+00   \n4                         0.045044     5.615669e+05   \n..                             ...              ...   \n295                       0.006512     2.879840e+07   \n296                       0.018042     9.585253e+07   \n297                       0.000000     2.879840e+07   \n298                       0.000000     2.879840e+07   \n299                       0.017306     2.879840e+07   \n\n     A.3_Expected Number of Deaths  A.4 Total Costs   \n0                         0.099448     4.082610e+07  \\\n1                         1.239183     9.051507e+07   \n2                         0.483342     0.000000e+00   \n3                         0.000000     5.247526e+07   \n4                         0.001004     0.000000e+00   \n..                             ...              ...   \n295                       0.000000     0.000000e+00   \n296                       0.154978     2.517975e+07   \n297                       0.000000     5.637489e+06   \n298                       0.000000     3.786984e+07   \n299                       0.000000     0.000000e+00   \n\n     A.4_Expected Number of Deaths  A.5 Total Costs   \n0                         0.023930     7.048610e+08  \\\n1                         0.048809     0.000000e+00   \n2                         0.000000     1.338047e+08   \n3                         0.023294     0.000000e+00   \n4                         0.000000     4.772785e+08   \n..                             ...              ...   \n295                       0.000000     1.565617e+07   \n296                       0.015490     0.000000e+00   \n297                       0.002255     0.000000e+00   \n298                       0.014128     0.000000e+00   \n299                       0.000000     0.000000e+00   \n\n     A.5_Expected Number of Deaths  RfR Total Costs  Expected Evacuation Costs  \n0                         0.763557      253800000.0                        0.0  \n1                         0.000000      253800000.0                        0.0  \n2                         0.102705      253800000.0                        0.0  \n3                         0.000000      253800000.0                        0.0  \n4                         0.419701      253800000.0                        0.0  \n..                             ...              ...                        ...  \n295                       0.013647      369700000.0                        0.0  \n296                       0.000000      369700000.0                        0.0  \n297                       0.000000      369700000.0                        0.0  \n298                       0.000000      369700000.0                        0.0  \n299                       0.000000      369700000.0                        0.0  \n\n[300 rows x 12 columns]",
      "text/html": "<div>\n<style scoped>\n    .dataframe tbody tr th:only-of-type {\n        vertical-align: middle;\n    }\n\n    .dataframe tbody tr th {\n        vertical-align: top;\n    }\n\n    .dataframe thead th {\n        text-align: right;\n    }\n</style>\n<table border=\"1\" class=\"dataframe\">\n  <thead>\n    <tr style=\"text-align: right;\">\n      <th></th>\n      <th>A.1 Total Costs</th>\n      <th>A.1_Expected Number of Deaths</th>\n      <th>A.2 Total Costs</th>\n      <th>A.2_Expected Number of Deaths</th>\n      <th>A.3 Total Costs</th>\n      <th>A.3_Expected Number of Deaths</th>\n      <th>A.4 Total Costs</th>\n      <th>A.4_Expected Number of Deaths</th>\n      <th>A.5 Total Costs</th>\n      <th>A.5_Expected Number of Deaths</th>\n      <th>RfR Total Costs</th>\n      <th>Expected Evacuation Costs</th>\n    </tr>\n  </thead>\n  <tbody>\n    <tr>\n      <th>0</th>\n      <td>5.397251e+07</td>\n      <td>0.000000</td>\n      <td>3.677944e+07</td>\n      <td>0.044461</td>\n      <td>4.374984e+07</td>\n      <td>0.099448</td>\n      <td>4.082610e+07</td>\n      <td>0.023930</td>\n      <td>7.048610e+08</td>\n      <td>0.763557</td>\n      <td>253800000.0</td>\n      <td>0.0</td>\n    </tr>\n    <tr>\n      <th>1</th>\n      <td>5.397251e+07</td>\n      <td>0.000000</td>\n      <td>3.320139e+07</td>\n      <td>0.043594</td>\n      <td>5.170051e+08</td>\n      <td>1.239183</td>\n      <td>9.051507e+07</td>\n      <td>0.048809</td>\n      <td>0.000000e+00</td>\n      <td>0.000000</td>\n      <td>253800000.0</td>\n      <td>0.0</td>\n    </tr>\n    <tr>\n      <th>2</th>\n      <td>5.397251e+07</td>\n      <td>0.000000</td>\n      <td>2.236155e+07</td>\n      <td>0.018971</td>\n      <td>3.149571e+08</td>\n      <td>0.483342</td>\n      <td>0.000000e+00</td>\n      <td>0.000000</td>\n      <td>1.338047e+08</td>\n      <td>0.102705</td>\n      <td>253800000.0</td>\n      <td>0.0</td>\n    </tr>\n    <tr>\n      <th>3</th>\n      <td>5.397251e+07</td>\n      <td>0.000000</td>\n      <td>1.437579e+08</td>\n      <td>0.130226</td>\n      <td>0.000000e+00</td>\n      <td>0.000000</td>\n      <td>5.247526e+07</td>\n      <td>0.023294</td>\n      <td>0.000000e+00</td>\n      <td>0.000000</td>\n      <td>253800000.0</td>\n      <td>0.0</td>\n    </tr>\n    <tr>\n      <th>4</th>\n      <td>5.397251e+07</td>\n      <td>0.000000</td>\n      <td>4.736275e+07</td>\n      <td>0.045044</td>\n      <td>5.615669e+05</td>\n      <td>0.001004</td>\n      <td>0.000000e+00</td>\n      <td>0.000000</td>\n      <td>4.772785e+08</td>\n      <td>0.419701</td>\n      <td>253800000.0</td>\n      <td>0.0</td>\n    </tr>\n    <tr>\n      <th>...</th>\n      <td>...</td>\n      <td>...</td>\n      <td>...</td>\n      <td>...</td>\n      <td>...</td>\n      <td>...</td>\n      <td>...</td>\n      <td>...</td>\n      <td>...</td>\n      <td>...</td>\n      <td>...</td>\n      <td>...</td>\n    </tr>\n    <tr>\n      <th>295</th>\n      <td>0.000000e+00</td>\n      <td>0.000000</td>\n      <td>7.045489e+06</td>\n      <td>0.006512</td>\n      <td>2.879840e+07</td>\n      <td>0.000000</td>\n      <td>0.000000e+00</td>\n      <td>0.000000</td>\n      <td>1.565617e+07</td>\n      <td>0.013647</td>\n      <td>369700000.0</td>\n      <td>0.0</td>\n    </tr>\n    <tr>\n      <th>296</th>\n      <td>0.000000e+00</td>\n      <td>0.000000</td>\n      <td>1.443229e+07</td>\n      <td>0.018042</td>\n      <td>9.585253e+07</td>\n      <td>0.154978</td>\n      <td>2.517975e+07</td>\n      <td>0.015490</td>\n      <td>0.000000e+00</td>\n      <td>0.000000</td>\n      <td>369700000.0</td>\n      <td>0.0</td>\n    </tr>\n    <tr>\n      <th>297</th>\n      <td>2.513008e+09</td>\n      <td>1.682852</td>\n      <td>0.000000e+00</td>\n      <td>0.000000</td>\n      <td>2.879840e+07</td>\n      <td>0.000000</td>\n      <td>5.637489e+06</td>\n      <td>0.002255</td>\n      <td>0.000000e+00</td>\n      <td>0.000000</td>\n      <td>369700000.0</td>\n      <td>0.0</td>\n    </tr>\n    <tr>\n      <th>298</th>\n      <td>2.972774e+09</td>\n      <td>1.684338</td>\n      <td>0.000000e+00</td>\n      <td>0.000000</td>\n      <td>2.879840e+07</td>\n      <td>0.000000</td>\n      <td>3.786984e+07</td>\n      <td>0.014128</td>\n      <td>0.000000e+00</td>\n      <td>0.000000</td>\n      <td>369700000.0</td>\n      <td>0.0</td>\n    </tr>\n    <tr>\n      <th>299</th>\n      <td>3.106796e+09</td>\n      <td>1.686196</td>\n      <td>2.132417e+07</td>\n      <td>0.017306</td>\n      <td>2.879840e+07</td>\n      <td>0.000000</td>\n      <td>0.000000e+00</td>\n      <td>0.000000</td>\n      <td>0.000000e+00</td>\n      <td>0.000000</td>\n      <td>369700000.0</td>\n      <td>0.0</td>\n    </tr>\n  </tbody>\n</table>\n<p>300 rows × 12 columns</p>\n</div>"
     },
     "execution_count": 23,
     "metadata": {},
     "output_type": "execute_result"
    }
   ],
   "source": [
    "# only works because we have scalar outcomes\n",
    "pd.DataFrame(outcomes)"
   ]
  },
  {
   "cell_type": "code",
   "execution_count": null,
   "metadata": {
    "pycharm": {
     "name": "#%%"
    }
   },
   "outputs": [],
   "source": []
  }
 ],
 "metadata": {
  "kernelspec": {
   "display_name": "Python 3 (ipykernel)",
   "language": "python",
   "name": "python3"
  },
  "language_info": {
   "codemirror_mode": {
    "name": "ipython",
    "version": 3
   },
   "file_extension": ".py",
   "mimetype": "text/x-python",
   "name": "python",
   "nbconvert_exporter": "python",
   "pygments_lexer": "ipython3",
   "version": "3.9.16"
  }
 },
 "nbformat": 4,
 "nbformat_minor": 4
}
